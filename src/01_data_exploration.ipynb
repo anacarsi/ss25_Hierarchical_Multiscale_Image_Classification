{
 "cells": [
  {
   "cell_type": "code",
   "execution_count": null,
   "metadata": {},
   "outputs": [
    {
     "ename": "MemoryError",
     "evalue": "Unable to allocate 171. GiB for an array with shape (89225, 85654, 3) and data type float64",
     "output_type": "error",
     "traceback": [
      "\u001b[1;31m---------------------------------------------------------------------------\u001b[0m",
      "\u001b[1;31mMemoryError\u001b[0m                               Traceback (most recent call last)",
      "Cell \u001b[1;32mIn[1], line 12\u001b[0m\n\u001b[0;32m      9\u001b[0m output_dir \u001b[38;5;241m=\u001b[39m \u001b[38;5;124m'\u001b[39m\u001b[38;5;124mpatches\u001b[39m\u001b[38;5;124m'\u001b[39m\n\u001b[0;32m     11\u001b[0m \u001b[38;5;66;03m# Call the patch extraction function\u001b[39;00m\n\u001b[1;32m---> 12\u001b[0m extract_multilevel_patches(\n\u001b[0;32m     13\u001b[0m     wsi_path\u001b[38;5;241m=\u001b[39mwsi_path,\n\u001b[0;32m     14\u001b[0m     patch_size\u001b[38;5;241m=\u001b[39m(\u001b[38;5;241m128\u001b[39m, \u001b[38;5;241m128\u001b[39m),  \u001b[38;5;66;03m# Patch size\u001b[39;00m\n\u001b[0;32m     15\u001b[0m     stride\u001b[38;5;241m=\u001b[39m\u001b[38;5;241m64\u001b[39m,             \u001b[38;5;66;03m# Stride for patch extraction\u001b[39;00m\n\u001b[0;32m     16\u001b[0m     levels\u001b[38;5;241m=\u001b[39m\u001b[38;5;241m5\u001b[39m,              \u001b[38;5;66;03m# Number of levels (resolutions)\u001b[39;00m\n\u001b[0;32m     17\u001b[0m     output_dir\u001b[38;5;241m=\u001b[39moutput_dir  \u001b[38;5;66;03m# Output directory\u001b[39;00m\n\u001b[0;32m     18\u001b[0m )\n\u001b[0;32m     20\u001b[0m \u001b[38;5;66;03m# Verify the output\u001b[39;00m\n\u001b[0;32m     21\u001b[0m \u001b[38;5;28mprint\u001b[39m(\u001b[38;5;124mf\u001b[39m\u001b[38;5;124m\"\u001b[39m\u001b[38;5;124mPatches have been extracted and saved to the \u001b[39m\u001b[38;5;124m'\u001b[39m\u001b[38;5;132;01m{\u001b[39;00moutput_dir\u001b[38;5;132;01m}\u001b[39;00m\u001b[38;5;124m'\u001b[39m\u001b[38;5;124m directory.\u001b[39m\u001b[38;5;124m\"\u001b[39m)\n",
      "File \u001b[1;32mc:\\Users\\anaca\\Documents\\sexto.curso\\tfg info\\Multiscale_Classification\\ss25_Hierarchical_Multiscale_Image_Classification\\src\\preprocessing\\patch_extraction.py:30\u001b[0m, in \u001b[0;36mextract_multilevel_patches\u001b[1;34m(wsi_path, patch_size, stride, levels, output_dir)\u001b[0m\n\u001b[0;32m     28\u001b[0m \u001b[38;5;66;03m# Downscale the image for the current level\u001b[39;00m\n\u001b[0;32m     29\u001b[0m scale_factor \u001b[38;5;241m=\u001b[39m \u001b[38;5;241m1\u001b[39m \u001b[38;5;241m/\u001b[39m (\u001b[38;5;241m2\u001b[39m \u001b[38;5;241m*\u001b[39m\u001b[38;5;241m*\u001b[39m level)\n\u001b[1;32m---> 30\u001b[0m scaled_image \u001b[38;5;241m=\u001b[39m transform\u001b[38;5;241m.\u001b[39mrescale(\n\u001b[0;32m     31\u001b[0m     wsi_image,\n\u001b[0;32m     32\u001b[0m     scale_factor,\n\u001b[0;32m     33\u001b[0m     channel_axis\u001b[38;5;241m=\u001b[39m\u001b[38;5;241m-\u001b[39m\u001b[38;5;241m1\u001b[39m,  \u001b[38;5;66;03m# Use channel_axis instead of multichannel\u001b[39;00m\n\u001b[0;32m     34\u001b[0m     anti_aliasing\u001b[38;5;241m=\u001b[39m\u001b[38;5;28;01mTrue\u001b[39;00m,\n\u001b[0;32m     35\u001b[0m     preserve_range\u001b[38;5;241m=\u001b[39m\u001b[38;5;28;01mTrue\u001b[39;00m\n\u001b[0;32m     36\u001b[0m )\u001b[38;5;241m.\u001b[39mastype(np\u001b[38;5;241m.\u001b[39muint8)\n\u001b[0;32m     38\u001b[0m \u001b[38;5;66;03m# Get dimensions of the scaled image\u001b[39;00m\n\u001b[0;32m     39\u001b[0m h, w, _ \u001b[38;5;241m=\u001b[39m scaled_image\u001b[38;5;241m.\u001b[39mshape\n",
      "File \u001b[1;32mc:\\Users\\anaca\\miniconda3\\envs\\mle_env\\Lib\\site-packages\\skimage\\_shared\\utils.py:456\u001b[0m, in \u001b[0;36mchannel_as_last_axis.__call__.<locals>.fixed_func\u001b[1;34m(*args, **kwargs)\u001b[0m\n\u001b[0;32m    453\u001b[0m     \u001b[38;5;28;01mraise\u001b[39;00m \u001b[38;5;167;01mValueError\u001b[39;00m(\u001b[38;5;124m\"\u001b[39m\u001b[38;5;124monly a single channel axis is currently supported\u001b[39m\u001b[38;5;124m\"\u001b[39m)\n\u001b[0;32m    455\u001b[0m \u001b[38;5;28;01mif\u001b[39;00m channel_axis \u001b[38;5;241m==\u001b[39m (\u001b[38;5;241m-\u001b[39m\u001b[38;5;241m1\u001b[39m,) \u001b[38;5;129;01mor\u001b[39;00m channel_axis \u001b[38;5;241m==\u001b[39m \u001b[38;5;241m-\u001b[39m\u001b[38;5;241m1\u001b[39m:\n\u001b[1;32m--> 456\u001b[0m     \u001b[38;5;28;01mreturn\u001b[39;00m func(\u001b[38;5;241m*\u001b[39margs, \u001b[38;5;241m*\u001b[39m\u001b[38;5;241m*\u001b[39mkwargs)\n\u001b[0;32m    458\u001b[0m \u001b[38;5;28;01mif\u001b[39;00m \u001b[38;5;28mself\u001b[39m\u001b[38;5;241m.\u001b[39marg_positions:\n\u001b[0;32m    459\u001b[0m     new_args \u001b[38;5;241m=\u001b[39m []\n",
      "File \u001b[1;32mc:\\Users\\anaca\\miniconda3\\envs\\mle_env\\Lib\\site-packages\\skimage\\transform\\_warps.py:317\u001b[0m, in \u001b[0;36mrescale\u001b[1;34m(image, scale, order, mode, cval, clip, preserve_range, anti_aliasing, anti_aliasing_sigma, channel_axis)\u001b[0m\n\u001b[0;32m    314\u001b[0m \u001b[38;5;28;01mif\u001b[39;00m multichannel:  \u001b[38;5;66;03m# don't scale channel dimension\u001b[39;00m\n\u001b[0;32m    315\u001b[0m     output_shape[\u001b[38;5;241m-\u001b[39m\u001b[38;5;241m1\u001b[39m] \u001b[38;5;241m=\u001b[39m orig_shape[\u001b[38;5;241m-\u001b[39m\u001b[38;5;241m1\u001b[39m]\n\u001b[1;32m--> 317\u001b[0m \u001b[38;5;28;01mreturn\u001b[39;00m resize(\n\u001b[0;32m    318\u001b[0m     image,\n\u001b[0;32m    319\u001b[0m     output_shape,\n\u001b[0;32m    320\u001b[0m     order\u001b[38;5;241m=\u001b[39morder,\n\u001b[0;32m    321\u001b[0m     mode\u001b[38;5;241m=\u001b[39mmode,\n\u001b[0;32m    322\u001b[0m     cval\u001b[38;5;241m=\u001b[39mcval,\n\u001b[0;32m    323\u001b[0m     clip\u001b[38;5;241m=\u001b[39mclip,\n\u001b[0;32m    324\u001b[0m     preserve_range\u001b[38;5;241m=\u001b[39mpreserve_range,\n\u001b[0;32m    325\u001b[0m     anti_aliasing\u001b[38;5;241m=\u001b[39manti_aliasing,\n\u001b[0;32m    326\u001b[0m     anti_aliasing_sigma\u001b[38;5;241m=\u001b[39manti_aliasing_sigma,\n\u001b[0;32m    327\u001b[0m )\n",
      "File \u001b[1;32mc:\\Users\\anaca\\miniconda3\\envs\\mle_env\\Lib\\site-packages\\skimage\\transform\\_warps.py:175\u001b[0m, in \u001b[0;36mresize\u001b[1;34m(image, output_shape, order, mode, cval, clip, preserve_range, anti_aliasing, anti_aliasing_sigma)\u001b[0m\n\u001b[0;32m    173\u001b[0m order \u001b[38;5;241m=\u001b[39m _validate_interpolation_order(input_type, order)\n\u001b[0;32m    174\u001b[0m \u001b[38;5;28;01mif\u001b[39;00m order \u001b[38;5;241m>\u001b[39m \u001b[38;5;241m0\u001b[39m:\n\u001b[1;32m--> 175\u001b[0m     image \u001b[38;5;241m=\u001b[39m convert_to_float(image, preserve_range)\n\u001b[0;32m    177\u001b[0m \u001b[38;5;66;03m# Translate modes used by np.pad to those used by scipy.ndimage\u001b[39;00m\n\u001b[0;32m    178\u001b[0m ndi_mode \u001b[38;5;241m=\u001b[39m _to_ndimage_mode(mode)\n",
      "File \u001b[1;32mc:\\Users\\anaca\\miniconda3\\envs\\mle_env\\Lib\\site-packages\\skimage\\_shared\\utils.py:746\u001b[0m, in \u001b[0;36mconvert_to_float\u001b[1;34m(image, preserve_range)\u001b[0m\n\u001b[0;32m    742\u001b[0m \u001b[38;5;28;01mif\u001b[39;00m preserve_range:\n\u001b[0;32m    743\u001b[0m     \u001b[38;5;66;03m# Convert image to double only if it is not single or double\u001b[39;00m\n\u001b[0;32m    744\u001b[0m     \u001b[38;5;66;03m# precision float\u001b[39;00m\n\u001b[0;32m    745\u001b[0m     \u001b[38;5;28;01mif\u001b[39;00m image\u001b[38;5;241m.\u001b[39mdtype\u001b[38;5;241m.\u001b[39mchar \u001b[38;5;129;01mnot\u001b[39;00m \u001b[38;5;129;01min\u001b[39;00m \u001b[38;5;124m'\u001b[39m\u001b[38;5;124mdf\u001b[39m\u001b[38;5;124m'\u001b[39m:\n\u001b[1;32m--> 746\u001b[0m         image \u001b[38;5;241m=\u001b[39m image\u001b[38;5;241m.\u001b[39mastype(\u001b[38;5;28mfloat\u001b[39m)\n\u001b[0;32m    747\u001b[0m \u001b[38;5;28;01melse\u001b[39;00m:\n\u001b[0;32m    748\u001b[0m     \u001b[38;5;28;01mfrom\u001b[39;00m \u001b[38;5;21;01m.\u001b[39;00m\u001b[38;5;21;01m.\u001b[39;00m\u001b[38;5;21;01mutil\u001b[39;00m\u001b[38;5;21;01m.\u001b[39;00m\u001b[38;5;21;01mdtype\u001b[39;00m \u001b[38;5;28;01mimport\u001b[39;00m img_as_float\n",
      "\u001b[1;31mMemoryError\u001b[0m: Unable to allocate 171. GiB for an array with shape (89225, 85654, 3) and data type float64"
     ]
    }
   ],
   "source": [
    "import os\n",
    "from preprocessing.patch_extraction import extract_multilevel_patches  # Import the patch extraction function\n",
    "\n",
    "wsi_path = '../data/test_001.tif'\n",
    "output_dir = 'patches'\n",
    "\n",
    "extract_multilevel_patches(\n",
    "    wsi_path=wsi_path,\n",
    "    patch_size=(128, 128),\n",
    "    stride=64,             # Stride for patch extraction, like a sliding window\n",
    "    levels=5,              # Number of levels (resolutions), like 1x, 2x, 4x\n",
    "    output_dir=output_dir \n",
    ")\n",
    "\n",
    "print(f\"Patches have been extracted and saved to the '{output_dir}' directory.\")"
   ]
  },
  {
   "cell_type": "code",
   "execution_count": 2,
   "metadata": {},
   "outputs": [
    {
     "ename": "FileNotFoundError",
     "evalue": "Could not find module 'c:\\Users\\anaca\\Documents\\sexto.curso\\tfg info\\Multiscale_Classification\\ss25_Hierarchical_Multiscale_Image_Classification\\src\\preprocessing\\parallel-prog\\chunk_based_proc.so' (or one of its dependencies). Try using the full path with constructor syntax.",
     "output_type": "error",
     "traceback": [
      "\u001b[1;31m---------------------------------------------------------------------------\u001b[0m",
      "\u001b[1;31mFileNotFoundError\u001b[0m                         Traceback (most recent call last)",
      "Cell \u001b[1;32mIn[2], line 4\u001b[0m\n\u001b[0;32m      1\u001b[0m \u001b[38;5;28;01mimport\u001b[39;00m \u001b[38;5;21;01mctypes\u001b[39;00m\n\u001b[0;32m      2\u001b[0m \u001b[38;5;28;01mimport\u001b[39;00m \u001b[38;5;21;01mnumpy\u001b[39;00m \u001b[38;5;28;01mas\u001b[39;00m \u001b[38;5;21;01mnp\u001b[39;00m\n\u001b[1;32m----> 4\u001b[0m chunk_proc \u001b[38;5;241m=\u001b[39m ctypes\u001b[38;5;241m.\u001b[39mCDLL(\u001b[38;5;124m'\u001b[39m\u001b[38;5;124m./preprocessing/parallel-prog/chunk_based_proc.so\u001b[39m\u001b[38;5;124m'\u001b[39m)\n\u001b[0;32m      6\u001b[0m \u001b[38;5;66;03m# Define the function signature\u001b[39;00m\n\u001b[0;32m      7\u001b[0m chunk_proc\u001b[38;5;241m.\u001b[39mchunk_based_processing\u001b[38;5;241m.\u001b[39margtypes \u001b[38;5;241m=\u001b[39m [\n\u001b[0;32m      8\u001b[0m     np\u001b[38;5;241m.\u001b[39mctypeslib\u001b[38;5;241m.\u001b[39mndpointer(dtype\u001b[38;5;241m=\u001b[39mnp\u001b[38;5;241m.\u001b[39mfloat32, ndim\u001b[38;5;241m=\u001b[39m\u001b[38;5;241m3\u001b[39m, flags\u001b[38;5;241m=\u001b[39m\u001b[38;5;124m'\u001b[39m\u001b[38;5;124mC_CONTIGUOUS\u001b[39m\u001b[38;5;124m'\u001b[39m),\n\u001b[0;32m      9\u001b[0m     ctypes\u001b[38;5;241m.\u001b[39mc_int,\n\u001b[0;32m     10\u001b[0m     ctypes\u001b[38;5;241m.\u001b[39mc_int,\n\u001b[0;32m     11\u001b[0m     ctypes\u001b[38;5;241m.\u001b[39mc_int\n\u001b[0;32m     12\u001b[0m ]\n",
      "File \u001b[1;32mc:\\Users\\anaca\\miniconda3\\envs\\mle_env\\Lib\\ctypes\\__init__.py:376\u001b[0m, in \u001b[0;36mCDLL.__init__\u001b[1;34m(self, name, mode, handle, use_errno, use_last_error, winmode)\u001b[0m\n\u001b[0;32m    373\u001b[0m \u001b[38;5;28mself\u001b[39m\u001b[38;5;241m.\u001b[39m_FuncPtr \u001b[38;5;241m=\u001b[39m _FuncPtr\n\u001b[0;32m    375\u001b[0m \u001b[38;5;28;01mif\u001b[39;00m handle \u001b[38;5;129;01mis\u001b[39;00m \u001b[38;5;28;01mNone\u001b[39;00m:\n\u001b[1;32m--> 376\u001b[0m     \u001b[38;5;28mself\u001b[39m\u001b[38;5;241m.\u001b[39m_handle \u001b[38;5;241m=\u001b[39m _dlopen(\u001b[38;5;28mself\u001b[39m\u001b[38;5;241m.\u001b[39m_name, mode)\n\u001b[0;32m    377\u001b[0m \u001b[38;5;28;01melse\u001b[39;00m:\n\u001b[0;32m    378\u001b[0m     \u001b[38;5;28mself\u001b[39m\u001b[38;5;241m.\u001b[39m_handle \u001b[38;5;241m=\u001b[39m handle\n",
      "\u001b[1;31mFileNotFoundError\u001b[0m: Could not find module 'c:\\Users\\anaca\\Documents\\sexto.curso\\tfg info\\Multiscale_Classification\\ss25_Hierarchical_Multiscale_Image_Classification\\src\\preprocessing\\parallel-prog\\chunk_based_proc.so' (or one of its dependencies). Try using the full path with constructor syntax."
     ]
    }
   ],
   "source": [
    "import ctypes\n",
    "import numpy as np\n",
    "\n",
    "chunk_proc = ctypes.CDLL('./preprocessing/parallel-prog/chunk_based_proc.so')\n",
    "\n",
    "# Define the function signature\n",
    "chunk_proc.chunk_based_processing.argtypes = [\n",
    "    np.ctypeslib.ndpointer(dtype=np.float32, ndim=3, flags='C_CONTIGUOUS'),\n",
    "    ctypes.c_int,\n",
    "    ctypes.c_int,\n",
    "    ctypes.c_int\n",
    "]\n",
    "\n",
    "def process_3d_data(data, tile_size):\n",
    "    depth, rows, cols = data.shape\n",
    "    chunk_proc.chunk_based_processing(data, tile_size, rows, cols)\n",
    "\n",
    "data = np.ones((128, 1024, 1024), dtype=np.float32)\n",
    "process_3d_data(data, tile_size=96)\n",
    "print(\"Processed data[0, 0, 0]:\", data[0, 0, 0])"
   ]
  }
 ],
 "metadata": {
  "kernelspec": {
   "display_name": "mle_env",
   "language": "python",
   "name": "python3"
  },
  "language_info": {
   "codemirror_mode": {
    "name": "ipython",
    "version": 3
   },
   "file_extension": ".py",
   "mimetype": "text/x-python",
   "name": "python",
   "nbconvert_exporter": "python",
   "pygments_lexer": "ipython3",
   "version": "3.11.11"
  }
 },
 "nbformat": 4,
 "nbformat_minor": 2
}
