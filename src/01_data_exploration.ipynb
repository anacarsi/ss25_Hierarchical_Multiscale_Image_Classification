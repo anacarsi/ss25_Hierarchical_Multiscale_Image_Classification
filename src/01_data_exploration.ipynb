{
 "cells": [
  {
   "cell_type": "markdown",
   "metadata": {},
   "source": [
    "### **1. Visualize the normal and tumor training images**"
   ]
  },
  {
   "cell_type": "code",
   "execution_count": 27,
   "metadata": {},
   "outputs": [
    {
     "name": "stdout",
     "output_type": "stream",
     "text": [
      "Normal WSI path: c:\\Users\\anaca\\Documents\\sexto.curso\\tfg info\\fresh-clone\\ss25_Hierarchical_Multiscale_Image_Classification\\src\\..\\data\\camelyon16\\train\\img\\normal_001.tif\n"
     ]
    },
    {
     "ename": "OpenSlideUnsupportedFormatError",
     "evalue": "Unsupported or missing image file",
     "output_type": "error",
     "traceback": [
      "\u001b[1;31m---------------------------------------------------------------------------\u001b[0m",
      "\u001b[1;31mOpenSlideUnsupportedFormatError\u001b[0m           Traceback (most recent call last)",
      "Cell \u001b[1;32mIn[27], line 21\u001b[0m\n\u001b[0;32m     19\u001b[0m \u001b[38;5;28mprint\u001b[39m(\u001b[38;5;124m\"\u001b[39m\u001b[38;5;124mNormal WSI path:\u001b[39m\u001b[38;5;124m\"\u001b[39m, normal_path)\n\u001b[0;32m     20\u001b[0m tumor_path \u001b[38;5;241m=\u001b[39m os\u001b[38;5;241m.\u001b[39mpath\u001b[38;5;241m.\u001b[39mjoin(os\u001b[38;5;241m.\u001b[39mgetcwd(), \u001b[38;5;124m\"\u001b[39m\u001b[38;5;124m..\u001b[39m\u001b[38;5;124m\"\u001b[39m, \u001b[38;5;124m\"\u001b[39m\u001b[38;5;124mdata\u001b[39m\u001b[38;5;124m\"\u001b[39m, \u001b[38;5;124m\"\u001b[39m\u001b[38;5;124mcamelyon16\u001b[39m\u001b[38;5;124m\"\u001b[39m, \u001b[38;5;124m\"\u001b[39m\u001b[38;5;124mtrain\u001b[39m\u001b[38;5;124m\"\u001b[39m, \u001b[38;5;124m\"\u001b[39m\u001b[38;5;124mimg\u001b[39m\u001b[38;5;124m\"\u001b[39m, \u001b[38;5;124m\"\u001b[39m\u001b[38;5;124mtumor_001.tif\u001b[39m\u001b[38;5;124m\"\u001b[39m)\n\u001b[1;32m---> 21\u001b[0m \u001b[43mshow_wsi_thumbnail\u001b[49m\u001b[43m(\u001b[49m\u001b[43mnormal_path\u001b[49m\u001b[43m,\u001b[49m\u001b[43m \u001b[49m\u001b[43mtitle\u001b[49m\u001b[38;5;241;43m=\u001b[39;49m\u001b[38;5;124;43m\"\u001b[39;49m\u001b[38;5;124;43mNormal WSI\u001b[39;49m\u001b[38;5;124;43m\"\u001b[39;49m\u001b[43m)\u001b[49m\n\u001b[0;32m     22\u001b[0m show_wsi_thumbnail(tumor_path, title\u001b[38;5;241m=\u001b[39m\u001b[38;5;124m\"\u001b[39m\u001b[38;5;124mTumor WSI\u001b[39m\u001b[38;5;124m\"\u001b[39m)\n\u001b[0;32m     24\u001b[0m \u001b[38;5;66;03m# Save thumbnails as PNG files\u001b[39;00m\n",
      "Cell \u001b[1;32mIn[27], line 9\u001b[0m, in \u001b[0;36mshow_wsi_thumbnail\u001b[1;34m(wsi_path, thumbnail_size, title)\u001b[0m\n\u001b[0;32m      8\u001b[0m \u001b[38;5;28;01mdef\u001b[39;00m \u001b[38;5;21mshow_wsi_thumbnail\u001b[39m(wsi_path, thumbnail_size\u001b[38;5;241m=\u001b[39m(\u001b[38;5;241m2048\u001b[39m, \u001b[38;5;241m2048\u001b[39m), title\u001b[38;5;241m=\u001b[39m\u001b[38;5;124m\"\u001b[39m\u001b[38;5;124m\"\u001b[39m):\n\u001b[1;32m----> 9\u001b[0m     slide \u001b[38;5;241m=\u001b[39m \u001b[43mOpenSlide\u001b[49m\u001b[43m(\u001b[49m\u001b[43mwsi_path\u001b[49m\u001b[43m)\u001b[49m\n\u001b[0;32m     10\u001b[0m     thumbnail \u001b[38;5;241m=\u001b[39m slide\u001b[38;5;241m.\u001b[39mget_thumbnail(thumbnail_size)\n\u001b[0;32m     12\u001b[0m     plt\u001b[38;5;241m.\u001b[39mfigure(figsize\u001b[38;5;241m=\u001b[39m(\u001b[38;5;241m12\u001b[39m, \u001b[38;5;241m12\u001b[39m))\n",
      "File \u001b[1;32mc:\\Users\\anaca\\miniconda3\\envs\\secure-sight\\Lib\\site-packages\\openslide\\__init__.py:207\u001b[0m, in \u001b[0;36mOpenSlide.__init__\u001b[1;34m(self, filename)\u001b[0m\n\u001b[0;32m    205\u001b[0m AbstractSlide\u001b[38;5;241m.\u001b[39m\u001b[38;5;21m__init__\u001b[39m(\u001b[38;5;28mself\u001b[39m)\n\u001b[0;32m    206\u001b[0m \u001b[38;5;28mself\u001b[39m\u001b[38;5;241m.\u001b[39m_filename \u001b[38;5;241m=\u001b[39m filename\n\u001b[1;32m--> 207\u001b[0m \u001b[38;5;28mself\u001b[39m\u001b[38;5;241m.\u001b[39m_osr \u001b[38;5;241m=\u001b[39m \u001b[43mlowlevel\u001b[49m\u001b[38;5;241;43m.\u001b[39;49m\u001b[43mopen\u001b[49m\u001b[43m(\u001b[49m\u001b[43mfilename\u001b[49m\u001b[43m)\u001b[49m\n\u001b[0;32m    208\u001b[0m \u001b[38;5;28;01mif\u001b[39;00m lowlevel\u001b[38;5;241m.\u001b[39mread_icc_profile\u001b[38;5;241m.\u001b[39mavailable:\n\u001b[0;32m    209\u001b[0m     \u001b[38;5;28mself\u001b[39m\u001b[38;5;241m.\u001b[39m_profile \u001b[38;5;241m=\u001b[39m lowlevel\u001b[38;5;241m.\u001b[39mread_icc_profile(\u001b[38;5;28mself\u001b[39m\u001b[38;5;241m.\u001b[39m_osr)\n",
      "File \u001b[1;32mc:\\Users\\anaca\\miniconda3\\envs\\secure-sight\\Lib\\site-packages\\openslide\\lowlevel.py:257\u001b[0m, in \u001b[0;36m_check_open\u001b[1;34m(result, _func, _args)\u001b[0m\n\u001b[0;32m    255\u001b[0m \u001b[38;5;28;01mdef\u001b[39;00m \u001b[38;5;21m_check_open\u001b[39m(result: \u001b[38;5;28mint\u001b[39m \u001b[38;5;241m|\u001b[39m \u001b[38;5;28;01mNone\u001b[39;00m, _func: Any, _args: Any) \u001b[38;5;241m-\u001b[39m\u001b[38;5;241m>\u001b[39m _OpenSlide:\n\u001b[0;32m    256\u001b[0m     \u001b[38;5;28;01mif\u001b[39;00m result \u001b[38;5;129;01mis\u001b[39;00m \u001b[38;5;28;01mNone\u001b[39;00m:\n\u001b[1;32m--> 257\u001b[0m         \u001b[38;5;28;01mraise\u001b[39;00m OpenSlideUnsupportedFormatError(\u001b[38;5;124m\"\u001b[39m\u001b[38;5;124mUnsupported or missing image file\u001b[39m\u001b[38;5;124m\"\u001b[39m)\n\u001b[0;32m    258\u001b[0m     slide \u001b[38;5;241m=\u001b[39m _OpenSlide(c_void_p(result))\n\u001b[0;32m    259\u001b[0m     err \u001b[38;5;241m=\u001b[39m get_error(slide)\n",
      "\u001b[1;31mOpenSlideUnsupportedFormatError\u001b[0m: Unsupported or missing image file"
     ]
    }
   ],
   "source": [
    "import numpy as np\n",
    "import matplotlib.pyplot as plt\n",
    "from openslide import OpenSlide\n",
    "from PIL import Image\n",
    "import matplotlib.pyplot as plt\n",
    "import os\n",
    "\n",
    "def show_wsi_thumbnail(wsi_path, thumbnail_size=(2048, 2048), title=\"\"):\n",
    "    slide = OpenSlide(wsi_path)\n",
    "    thumbnail = slide.get_thumbnail(thumbnail_size)\n",
    "\n",
    "    plt.figure(figsize=(12, 12))\n",
    "    plt.imshow(thumbnail)\n",
    "    plt.title(title)\n",
    "    plt.axis(\"off\")\n",
    "    plt.show()\n",
    "\n",
    "normal_path = os.path.join(os.getcwd(), \"..\", \"data\", \"camelyon16\", \"train\", \"img\", \"normal_001.tif\")\n",
    "print(\"Normal WSI path:\", normal_path)\n",
    "tumor_path = os.path.join(os.getcwd(), \"..\", \"data\", \"camelyon16\", \"train\", \"img\", \"tumor_001.tif\")\n",
    "show_wsi_thumbnail(normal_path, title=\"Normal WSI\")\n",
    "show_wsi_thumbnail(tumor_path, title=\"Tumor WSI\")\n",
    "\n",
    "# Save thumbnails as PNG files\n",
    "OpenSlide(normal_path).get_thumbnail((2048, 2048)).save(\"normal_thumbnail.png\")\n",
    "OpenSlide(tumor_path).get_thumbnail((2048, 2048)).save(\"tumor_thumbnail.png\")\n",
    "\n"
   ]
  },
  {
   "cell_type": "code",
   "execution_count": null,
   "metadata": {},
   "outputs": [
    {
     "ename": "OpenSlideUnsupportedFormatError",
     "evalue": "Unsupported or missing image file",
     "output_type": "error",
     "traceback": [
      "\u001b[1;31m---------------------------------------------------------------------------\u001b[0m",
      "\u001b[1;31mOpenSlideUnsupportedFormatError\u001b[0m           Traceback (most recent call last)",
      "Cell \u001b[1;32mIn[26], line 1\u001b[0m\n\u001b[1;32m----> 1\u001b[0m \u001b[43mshow_wsi_thumbnail\u001b[49m\u001b[43m(\u001b[49m\u001b[43mnormal_path\u001b[49m\u001b[43m,\u001b[49m\u001b[43m \u001b[49m\u001b[43mtitle\u001b[49m\u001b[38;5;241;43m=\u001b[39;49m\u001b[38;5;124;43m\"\u001b[39;49m\u001b[38;5;124;43mNormal WSI\u001b[39;49m\u001b[38;5;124;43m\"\u001b[39;49m\u001b[43m)\u001b[49m\n\u001b[0;32m      2\u001b[0m show_wsi_thumbnail(tumor_path, title\u001b[38;5;241m=\u001b[39m\u001b[38;5;124m\"\u001b[39m\u001b[38;5;124mTumor WSI\u001b[39m\u001b[38;5;124m\"\u001b[39m)\n\u001b[0;32m      4\u001b[0m \u001b[38;5;66;03m# Save thumbnails as PNG files\u001b[39;00m\n",
      "Cell \u001b[1;32mIn[25], line 9\u001b[0m, in \u001b[0;36mshow_wsi_thumbnail\u001b[1;34m(wsi_path, thumbnail_size, title)\u001b[0m\n\u001b[0;32m      8\u001b[0m \u001b[38;5;28;01mdef\u001b[39;00m \u001b[38;5;21mshow_wsi_thumbnail\u001b[39m(wsi_path, thumbnail_size\u001b[38;5;241m=\u001b[39m(\u001b[38;5;241m2048\u001b[39m, \u001b[38;5;241m2048\u001b[39m), title\u001b[38;5;241m=\u001b[39m\u001b[38;5;124m\"\u001b[39m\u001b[38;5;124m\"\u001b[39m):\n\u001b[1;32m----> 9\u001b[0m     slide \u001b[38;5;241m=\u001b[39m \u001b[43mOpenSlide\u001b[49m\u001b[43m(\u001b[49m\u001b[43mwsi_path\u001b[49m\u001b[43m)\u001b[49m\n\u001b[0;32m     10\u001b[0m     thumbnail \u001b[38;5;241m=\u001b[39m slide\u001b[38;5;241m.\u001b[39mget_thumbnail(thumbnail_size)\n\u001b[0;32m     12\u001b[0m     plt\u001b[38;5;241m.\u001b[39mfigure(figsize\u001b[38;5;241m=\u001b[39m(\u001b[38;5;241m12\u001b[39m, \u001b[38;5;241m12\u001b[39m))\n",
      "File \u001b[1;32mc:\\Users\\anaca\\miniconda3\\envs\\secure-sight\\Lib\\site-packages\\openslide\\__init__.py:207\u001b[0m, in \u001b[0;36mOpenSlide.__init__\u001b[1;34m(self, filename)\u001b[0m\n\u001b[0;32m    205\u001b[0m AbstractSlide\u001b[38;5;241m.\u001b[39m\u001b[38;5;21m__init__\u001b[39m(\u001b[38;5;28mself\u001b[39m)\n\u001b[0;32m    206\u001b[0m \u001b[38;5;28mself\u001b[39m\u001b[38;5;241m.\u001b[39m_filename \u001b[38;5;241m=\u001b[39m filename\n\u001b[1;32m--> 207\u001b[0m \u001b[38;5;28mself\u001b[39m\u001b[38;5;241m.\u001b[39m_osr \u001b[38;5;241m=\u001b[39m \u001b[43mlowlevel\u001b[49m\u001b[38;5;241;43m.\u001b[39;49m\u001b[43mopen\u001b[49m\u001b[43m(\u001b[49m\u001b[43mfilename\u001b[49m\u001b[43m)\u001b[49m\n\u001b[0;32m    208\u001b[0m \u001b[38;5;28;01mif\u001b[39;00m lowlevel\u001b[38;5;241m.\u001b[39mread_icc_profile\u001b[38;5;241m.\u001b[39mavailable:\n\u001b[0;32m    209\u001b[0m     \u001b[38;5;28mself\u001b[39m\u001b[38;5;241m.\u001b[39m_profile \u001b[38;5;241m=\u001b[39m lowlevel\u001b[38;5;241m.\u001b[39mread_icc_profile(\u001b[38;5;28mself\u001b[39m\u001b[38;5;241m.\u001b[39m_osr)\n",
      "File \u001b[1;32mc:\\Users\\anaca\\miniconda3\\envs\\secure-sight\\Lib\\site-packages\\openslide\\lowlevel.py:257\u001b[0m, in \u001b[0;36m_check_open\u001b[1;34m(result, _func, _args)\u001b[0m\n\u001b[0;32m    255\u001b[0m \u001b[38;5;28;01mdef\u001b[39;00m \u001b[38;5;21m_check_open\u001b[39m(result: \u001b[38;5;28mint\u001b[39m \u001b[38;5;241m|\u001b[39m \u001b[38;5;28;01mNone\u001b[39;00m, _func: Any, _args: Any) \u001b[38;5;241m-\u001b[39m\u001b[38;5;241m>\u001b[39m _OpenSlide:\n\u001b[0;32m    256\u001b[0m     \u001b[38;5;28;01mif\u001b[39;00m result \u001b[38;5;129;01mis\u001b[39;00m \u001b[38;5;28;01mNone\u001b[39;00m:\n\u001b[1;32m--> 257\u001b[0m         \u001b[38;5;28;01mraise\u001b[39;00m OpenSlideUnsupportedFormatError(\u001b[38;5;124m\"\u001b[39m\u001b[38;5;124mUnsupported or missing image file\u001b[39m\u001b[38;5;124m\"\u001b[39m)\n\u001b[0;32m    258\u001b[0m     slide \u001b[38;5;241m=\u001b[39m _OpenSlide(c_void_p(result))\n\u001b[0;32m    259\u001b[0m     err \u001b[38;5;241m=\u001b[39m get_error(slide)\n",
      "\u001b[1;31mOpenSlideUnsupportedFormatError\u001b[0m: Unsupported or missing image file"
     ]
    }
   ],
   "source": [
    "\n"
   ]
  },
  {
   "cell_type": "code",
   "execution_count": null,
   "metadata": {},
   "outputs": [
    {
     "name": "stdout",
     "output_type": "stream",
     "text": [
      "[INFO] Directory c:\\Users\\anaca\\Documents\\sexto.curso\\tfg info\\fresh-clone\\ss25_Hierarchical_Multiscale_Image_Classification\\src\\..\\data\\camelyon16\\masks\\annotations already exists. Skipping extraction.\n"
     ]
    }
   ],
   "source": [
    "import zipfile\n",
    "\n",
    "def extract_zip(zip_path, extract_to):\n",
    "    if not os.path.exists(extract_to):\n",
    "        os.makedirs(extract_to)\n",
    "    else:\n",
    "        print(f\"[INFO] Directory of destination already exists. Skipping extraction.\")\n",
    "        return\n",
    "    with zipfile.ZipFile(zip_path, 'r') as zip_ref:\n",
    "        zip_ref.extractall(extract_to)\n",
    "    print(f\"[INFO] Extracted {zip_path} to {extract_to}\")\n",
    "\n",
    "zip_path = os.path.join(os.getcwd(), \"..\", \"data\", \"camelyon16\", \"masks\", \"lesion_annotations.zip\")\n",
    "extract_to = os.path.join(os.getcwd(), \"..\", \"data\", \"camelyon16\", \"masks\", \"annotations\")\n",
    "extract_zip(zip_path, extract_to)\n"
   ]
  },
  {
   "cell_type": "markdown",
   "metadata": {},
   "source": [
    "### **2. Parsing the XML mask**"
   ]
  },
  {
   "cell_type": "code",
   "execution_count": null,
   "metadata": {},
   "outputs": [],
   "source": [
    "import xml.etree.ElementTree as ET\n",
    "\n",
    "def parse_annotation(xml_path):\n",
    "    \"\"\"\n",
    "    Parse the XML annotation file and extract regions of tumor.\n",
    "    Parameters:\n",
    "        xml_path (str): Path to the XML annotation file.\n",
    "    \"\"\"\n",
    "    tree = ET.parse(xml_path)\n",
    "    root = tree.getroot()\n",
    "\n",
    "    regions = []\n",
    "    for annotation in root.iter('Annotation'):\n",
    "        for region in annotation.iter('Region'):\n",
    "            points = []\n",
    "            for vertex in region.iter('Vertex'):\n",
    "                x = float(vertex.get('X'))\n",
    "                y = float(vertex.get('Y'))\n",
    "                points.append((x, y))\n",
    "            regions.append(points)\n",
    "    return regions\n"
   ]
  },
  {
   "cell_type": "markdown",
   "metadata": {},
   "source": [
    "### **3. Overlaying the mask on the WSI**"
   ]
  },
  {
   "cell_type": "code",
   "execution_count": null,
   "metadata": {},
   "outputs": [],
   "source": [
    "import matplotlib.pyplot as plt\n",
    "from openslide import OpenSlide\n",
    "import numpy as np\n",
    "from PIL import ImageDraw\n",
    "\n",
    "def show_mask_overlay(wsi_path, xml_path, level=4):\n",
    "    slide = OpenSlide(wsi_path)\n",
    "    thumb = slide.get_thumbnail(slide.level_dimensions[level])\n",
    "    thumb = thumb.convert(\"RGBA\")\n",
    "    draw = ImageDraw.Draw(thumb, \"RGBA\")\n",
    "\n",
    "    regions = parse_annotation(xml_path)\n",
    "    scale_factor = slide.level_dimensions[0][0] / slide.level_dimensions[level][0]\n",
    "\n",
    "    for polygon in regions:\n",
    "        downscaled = [(x / scale_factor, y / scale_factor) for x, y in polygon]\n",
    "        draw.polygon(downscaled, outline=(255, 0, 0, 255), fill=(255, 0, 0, 80))\n",
    "\n",
    "    plt.figure(figsize=(10, 10))\n",
    "    plt.imshow(thumb)\n",
    "    plt.title(f\"Tumor Regions Overlay for {wsi_path}\")\n",
    "    plt.axis(\"off\")\n",
    "    plt.show()\n",
    "\n",
    "wsi_path = \"./data/camelyon16/train/img/tumor_001.tif\"\n",
    "xml_path = \"./data/camelyon16/masks/annotations/tumor_001.xml\"\n",
    "show_mask_overlay(wsi_path, xml_path)\n"
   ]
  },
  {
   "cell_type": "markdown",
   "metadata": {},
   "source": [
    "## **Convert mask and images to tensor**"
   ]
  }
 ],
 "metadata": {
  "kernelspec": {
   "display_name": "secure-sight",
   "language": "python",
   "name": "python3"
  },
  "language_info": {
   "codemirror_mode": {
    "name": "ipython",
    "version": 3
   },
   "file_extension": ".py",
   "mimetype": "text/x-python",
   "name": "python",
   "nbconvert_exporter": "python",
   "pygments_lexer": "ipython3",
   "version": "3.11.10"
  }
 },
 "nbformat": 4,
 "nbformat_minor": 2
}
