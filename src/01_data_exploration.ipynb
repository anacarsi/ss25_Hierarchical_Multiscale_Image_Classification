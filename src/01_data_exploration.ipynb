{
 "cells": [
  {
   "cell_type": "markdown",
   "metadata": {},
   "source": [
    "#### **1. Extract files**"
   ]
  },
  {
   "cell_type": "code",
   "execution_count": null,
   "metadata": {},
   "outputs": [
    {
     "name": "stdout",
     "output_type": "stream",
     "text": [
      "../data/patient_000 already exists, skipping extraction.\n",
      "Extracted files to ../data/patient_000\n"
     ]
    }
   ],
   "source": [
    "import zipfile\n",
    "import os\n",
    "\n",
    "zip_path = \"../data/patient_000.zip\"\n",
    "output_dir = \"../data/patient_000\"\n",
    "\n",
    "# Extract the zip file if not already extracted\n",
    "if not os.path.exists(output_dir):\n",
    "    print(f\"Extracting {zip_path} to {output_dir}...\")\n",
    "    os.makedirs(output_dir, exist_ok=True)\n",
    "    with zipfile.ZipFile(zip_path, 'r') as zip_ref:\n",
    "        zip_ref.extractall(output_dir)\n",
    "    print(f\"Extracted files to {output_dir}\")\n",
    "else:\n",
    "    print(f\"{output_dir} already exists, skipping extraction.\")\n"
   ]
  },
  {
   "cell_type": "markdown",
   "metadata": {},
   "source": [
    "#### **2. Visualize image**"
   ]
  },
  {
   "cell_type": "code",
   "execution_count": null,
   "metadata": {},
   "outputs": [
    {
     "name": "stdout",
     "output_type": "stream",
     "text": [
      "Files in directory: ['patient_000_node_0.tif', 'patient_000_node_1.tif', 'patient_000_node_2.tif', 'patient_000_node_3.tif', 'patient_000_node_4.tif']\n"
     ]
    }
   ],
   "source": [
    "from PIL import Image\n",
    "import matplotlib.pyplot as plt\n",
    "import os\n",
    "\n",
    "# Disable decompression bomb check for large images\n",
    "Image.MAX_IMAGE_PIXELS = None\n",
    "\n",
    "image_dir = os.path.join(os.getcwd(), \"..\", \"data\", \"patient_000\")\n",
    "print(f\"Files in directory: {os.listdir(image_dir)}\")\n",
    "image_files = [os.path.join(image_dir, f) for f in os.listdir(image_dir) if f.endswith(\".tif\")]\n",
    "\n",
    "if not image_files:\n",
    "    print(f\"No .tif files found in {image_dir}\")\n",
    "else:\n",
    "    image_path = image_files[0]\n",
    "    image = Image.open(image_path)\n",
    "\n",
    "    plt.imshow(image)\n",
    "    plt.title(f\"Image: {os.path.basename(image_path)}\")\n",
    "    plt.axis(\"off\")\n",
    "    plt.show()"
   ]
  },
  {
   "cell_type": "code",
   "execution_count": null,
   "metadata": {},
   "outputs": [],
   "source": [
    "image = Image.open(image_path)\n",
    "downsampled_image = image.resize((1024, 1024))  # Resize to 1024x1024 pixels\n",
    "plt.imshow(downsampled_image)\n",
    "plt.title(\"Downsampled Image\")\n",
    "plt.axis(\"off\")\n",
    "plt.show()"
   ]
  },
  {
   "cell_type": "markdown",
   "metadata": {},
   "source": [
    "#### **3. Convert to tensor**"
   ]
  },
  {
   "cell_type": "code",
   "execution_count": null,
   "metadata": {},
   "outputs": [],
   "source": [
    "import torchvision.transforms as transforms\n",
    "\n",
    "transform = transforms.Compose([\n",
    "    transforms.ToTensor(),  \n",
    "    transforms.Resize((512, 512))  # Resize all images to the same size\n",
    "])\n",
    "\n",
    "image_tensor = transform(image)\n",
    "\n",
    "print(f\"Image tensor shape: {image_tensor.shape}\")"
   ]
  },
  {
   "cell_type": "markdown",
   "metadata": {},
   "source": [
    "#### **4. Crop uniformly**"
   ]
  },
  {
   "cell_type": "code",
   "execution_count": null,
   "metadata": {},
   "outputs": [],
   "source": [
    "# Crop the image to 256x256\n",
    "crop_transform = transforms.Compose([\n",
    "    transforms.CenterCrop((256, 256))\n",
    "])\n",
    "\n",
    "cropped_image = crop_transform(image)\n",
    "plt.imshow(cropped_image)\n",
    "plt.title(\"Cropped Image\")\n",
    "plt.axis(\"off\")\n",
    "plt.show()"
   ]
  },
  {
   "cell_type": "markdown",
   "metadata": {},
   "source": [
    "#### **5. Add masks?**"
   ]
  },
  {
   "cell_type": "code",
   "execution_count": null,
   "metadata": {},
   "outputs": [],
   "source": [
    "import numpy as np\n",
    "\n",
    "# Binary mask\n",
    "mask = np.zeros((512, 512), dtype=np.uint8)\n",
    "mask[100:400, 100:400] = 255  # TODO: where?\n",
    "\n",
    "# Convert mask to PIL image\n",
    "mask_image = Image.fromarray(mask)\n",
    "\n",
    "# Overlay mask\n",
    "overlay = Image.blend(image.convert(\"RGBA\"), mask_image.convert(\"RGBA\"), alpha=0.5)\n",
    "plt.imshow(overlay)\n",
    "plt.title(\"Image with Mask\")\n",
    "plt.axis(\"off\")\n",
    "plt.show()"
   ]
  },
  {
   "cell_type": "markdown",
   "metadata": {},
   "source": [
    "#### **6. Load to Dataset**"
   ]
  },
  {
   "cell_type": "code",
   "execution_count": null,
   "metadata": {},
   "outputs": [],
   "source": [
    "from torch.utils.data import Dataset\n",
    "\n",
    "class PatientDataset(Dataset):\n",
    "    def __init__(self, image_dir, transform=None):\n",
    "        self.image_dir = image_dir\n",
    "        self.image_files = [os.path.join(image_dir, f) for f in os.listdir(image_dir) if f.endswith(\".tif\")]\n",
    "        self.transform = transform\n",
    "\n",
    "    def __len__(self):\n",
    "        return len(self.image_files)\n",
    "\n",
    "    def __getitem__(self, idx):\n",
    "        image_path = self.image_files[idx]\n",
    "        image = Image.open(image_path)\n",
    "        if self.transform:\n",
    "            image = self.transform(image)\n",
    "        return image\n",
    "\n",
    "transform = transforms.Compose([\n",
    "    transforms.ToTensor(),\n",
    "    transforms.Resize((512, 512))\n",
    "])\n",
    "\n",
    "dataset = PatientDataset(image_dir=\"./data/patient_000\", transform=transform)\n",
    "\n",
    "image_tensor = dataset[0]\n",
    "print(f\"Loaded image tensor shape: {image_tensor.shape}\")"
   ]
  },
  {
   "cell_type": "code",
   "execution_count": null,
   "metadata": {},
   "outputs": [],
   "source": [
    "fig, axes = plt.subplots(1, 5, figsize=(15, 5))\n",
    "for i in range(5):\n",
    "    image_tensor = dataset[i]\n",
    "    axes[i].imshow(image_tensor.permute(1, 2, 0))  # Convert tensor to image format\n",
    "    axes[i].axis(\"off\")\n",
    "plt.show()"
   ]
  }
 ],
 "metadata": {
  "kernelspec": {
   "display_name": "secure-sight",
   "language": "python",
   "name": "python3"
  },
  "language_info": {
   "codemirror_mode": {
    "name": "ipython",
    "version": 3
   },
   "file_extension": ".py",
   "mimetype": "text/x-python",
   "name": "python",
   "nbconvert_exporter": "python",
   "pygments_lexer": "ipython3",
   "version": "3.11.10"
  }
 },
 "nbformat": 4,
 "nbformat_minor": 2
}
