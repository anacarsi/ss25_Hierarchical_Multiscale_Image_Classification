{
 "cells": [
  {
   "cell_type": "markdown",
   "id": "5779fce6",
   "metadata": {},
   "source": [
    "### **Feature extraction**"
   ]
  },
  {
   "cell_type": "code",
   "execution_count": null,
   "id": "6647d1cd",
   "metadata": {},
   "outputs": [],
   "source": [
    "import os\n",
    "from models.resnet import ResNet18Classifier\n",
    "import torch\n",
    "import torch.nn as nn\n",
    "\n",
    "device = torch.device(\"cuda\" if torch.cuda.is_available() else \"cpu\")\n",
    "\n",
    "model = ResNet18Classifier()\n",
    "model.load_state_dict(torch.load(\"resnet18_patch_classifier.pth\"))\n",
    "model = model.to(device)\n",
    "feature_extractor = nn.Sequential(*list(model.model.children())[:-1])  # remove FC layer"
   ]
  }
 ],
 "metadata": {
  "kernelspec": {
   "display_name": "secure-sight",
   "language": "python",
   "name": "python3"
  },
  "language_info": {
   "name": "python",
   "version": "3.11.10"
  }
 },
 "nbformat": 4,
 "nbformat_minor": 5
}
