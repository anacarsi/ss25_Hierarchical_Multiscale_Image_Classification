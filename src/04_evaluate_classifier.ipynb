{
 "cells": [
  {
   "cell_type": "markdown",
   "id": "8dcf72ae",
   "metadata": {},
   "source": [
    "Should aim for:\n",
    "\n",
    "-If all downloads successful-\n",
    "[INFO] Feature shape: (89598, 512)\n",
    "[INFO] Labels shape: (89598,)\n",
    "[INFO] Label distribution (0=normal, 1=tumor): [82115  7483]\n",
    "[INFO] PCA explained variance ratio (2 components): [0.73787075 0.2177505 ]\n",
    "[INFO] PCA mean for class 0: [ 0.1315507 -0.3937801]\n",
    "[INFO] PCA mean for class 1: [-1.4437389  4.3208265]"
   ]
  },
  {
   "cell_type": "markdown",
   "id": "8b4d8a0d",
   "metadata": {},
   "source": [
    "Total: 89,598 patches\n",
    "\n",
    "Normal: 82,115\n",
    "\n",
    "Tumor: 7,483\n",
    "\n",
    "Class imbalance: ~11:1 (normal:tumor)\n",
    "\n",
    "PC1: 73.8%, PC2: 21.8% → Strong dimensionality reduction, nice for visual separation."
   ]
  },
  {
   "cell_type": "markdown",
   "id": "b7935be5",
   "metadata": {},
   "source": [
    "Normal (label 0): [ 0.13, -0.39 ]\n",
    "\n",
    "Tumor (label 1): [ -1.44, 4.32 ]\n",
    "\n",
    "These means are well separated → strong sign your ResNet is learning class-discriminative features."
   ]
  },
  {
   "cell_type": "markdown",
   "id": "b7fe467a",
   "metadata": {},
   "source": [
    "### **Evaluate Feature Extractor**"
   ]
  },
  {
   "cell_type": "code",
   "execution_count": null,
   "id": "1f8b8738",
   "metadata": {},
   "outputs": [],
   "source": [
    "# Sanity Check of Extracted Patch Features \n",
    "\n",
    "import matplotlib.pyplot as plt\n",
    "from sklearn.manifold import TSNE\n",
    "from sklearn.decomposition import PCA\n",
    "from sklearn.linear_model import LogisticRegression\n",
    "from sklearn.metrics import accuracy_score, confusion_matrix\n",
    "from sklearn.model_selection import train_test_split\n",
    "import seaborn as sns\n",
    "import os\n",
    "import numpy as np\n",
    "\n",
    "# Load extracted features and labels\n",
    "features = np.load(\"patch_features_3.npy\")     # shape: (N, 512)\n",
    "labels = np.load(\"patch_labels_3.npy\")         # shape: (N,)\n",
    "\n",
    "print(f\"Feature shape: {features.shape}\")\n",
    "print(f\"Labels shape: {labels.shape}\")\n",
    "print(f\"Label distribution: {np.bincount(labels)}\")  # 0 = normal, 1 = tumor\n",
    "\n",
    "# --------------------------------------\n",
    "# 1. PCA Visualization (first 2 components)\n",
    "# --------------------------------------\n",
    "pca = PCA(n_components=2)\n",
    "features_pca = pca.fit_transform(features)\n",
    "\n",
    "plt.figure(figsize=(8,6))\n",
    "sns.scatterplot(x=features_pca[:,0], y=features_pca[:,1], hue=labels, palette='Set1')\n",
    "plt.title(\"PCA: Patch Features (2D)\")\n",
    "plt.xlabel(\"PC1\")\n",
    "plt.ylabel(\"PC2\")\n",
    "plt.legend([\"Normal\", \"Tumor\"])\n",
    "plt.show()\n",
    "\n",
    "# --------------------------------------\n",
    "# 2. t-SNE Visualization\n",
    "# --------------------------------------\n",
    "tsne = TSNE(n_components=2, perplexity=30, n_iter=1000, random_state=42)\n",
    "features_tsne = tsne.fit_transform(features)\n",
    "\n",
    "plt.figure(figsize=(8,6))\n",
    "sns.scatterplot(x=features_tsne[:,0], y=features_tsne[:,1], hue=labels, palette='Set1')\n",
    "plt.title(\"t-SNE: Patch Features (2D)\")\n",
    "plt.xlabel(\"Dim 1\")\n",
    "plt.ylabel(\"Dim 2\")\n",
    "plt.legend([\"Normal\", \"Tumor\"])\n",
    "plt.show()\n",
    "\n",
    "# --------------------------------------\n",
    "# 3. Logistic Regression on Extracted Features\n",
    "# --------------------------------------\n",
    "X_train, X_test, y_train, y_test = train_test_split(features, labels, test_size=0.2, random_state=42)\n",
    "\n",
    "clf = LogisticRegression(max_iter=1000)\n",
    "clf.fit(X_train, y_train)\n",
    "y_pred = clf.predict(X_test)\n",
    "\n",
    "acc = accuracy_score(y_test, y_pred)\n",
    "cm = confusion_matrix(y_test, y_pred)\n",
    "\n",
    "print(f\"Logistic Regression Accuracy: {acc:.4f}\")\n",
    "sns.heatmap(cm, annot=True, fmt=\"d\", cmap=\"Blues\", xticklabels=[\"Normal\", \"Tumor\"], yticklabels=[\"Normal\", \"Tumor\"])\n",
    "plt.title(\"Confusion Matrix\")\n",
    "plt.xlabel(\"Predicted\")\n",
    "plt.ylabel(\"True\")\n",
    "plt.show()\n"
   ]
  },
  {
   "cell_type": "markdown",
   "id": "26e40871",
   "metadata": {},
   "source": [
    "[INFO] Logistic Regression Accuracy: 0.8661 as for 26.06.2025"
   ]
  },
  {
   "cell_type": "markdown",
   "id": "cb3b0816",
   "metadata": {},
   "source": [
    "Features are nicely discriminative, given that the dataset is so imbalanced:)"
   ]
  },
  {
   "cell_type": "markdown",
   "id": "4c35329f",
   "metadata": {},
   "source": [
    "[INFO] t-SNE mean for class 0: [  1.60,  -3.26]\n",
    "[INFO] t-SNE mean for class 1: [ -1.30,  36.63]\n"
   ]
  },
  {
   "cell_type": "markdown",
   "id": "38f0406b",
   "metadata": {},
   "source": [
    "The class means are far apart, especially along the second dimension (Y-axis). A ~40-unit difference is very large in t-SNE space, which usually compresses distances."
   ]
  }
 ],
 "metadata": {
  "kernelspec": {
   "display_name": "secure-sight",
   "language": "python",
   "name": "python3"
  },
  "language_info": {
   "codemirror_mode": {
    "name": "ipython",
    "version": 3
   },
   "file_extension": ".py",
   "mimetype": "text/x-python",
   "name": "python",
   "nbconvert_exporter": "python",
   "pygments_lexer": "ipython3",
   "version": "3.11.10"
  }
 },
 "nbformat": 4,
 "nbformat_minor": 5
}
